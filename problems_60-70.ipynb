{
 "cells": [
  {
   "cell_type": "code",
   "execution_count": 13,
   "metadata": {},
   "outputs": [
    {
     "data": {
      "text/plain": [
       "7273"
      ]
     },
     "execution_count": 13,
     "metadata": {},
     "output_type": "execute_result"
    }
   ],
   "source": [
    "# Problem 67: Maximum path sum II\n",
    "import pandas as pd\n",
    "df = pd.read_csv(\"p067_triangle.csv\")\n",
    "triangle = df['a'].tolist()\n",
    "d = [[0]]*len(triangle)\n",
    "for i in range(len(triangle)):\n",
    "    data = str(triangle[i])\n",
    "    new_list = [int(x) for x in data.split(\" \")]\n",
    "    d[i] = new_list\n",
    "    \n",
    "rows = len(d)\n",
    "max_path = d\n",
    "max_path[-1] = d[-1]\n",
    "for i in range(2,rows+1):\n",
    "    row = rows-i\n",
    "    for j in range(len(d[row])):\n",
    "        row_below = max_path[row+1]\n",
    "        max_val = max(row_below[j],row_below[j+1])\n",
    "        max_path[row][j] = d[row][j] + max_val\n",
    "\n",
    "max_path[0][0]\n",
    "    "
   ]
  },
  {
   "cell_type": "code",
   "execution_count": null,
   "metadata": {},
   "outputs": [],
   "source": []
  }
 ],
 "metadata": {
  "kernelspec": {
   "display_name": "Python 3",
   "language": "python",
   "name": "python3"
  },
  "language_info": {
   "codemirror_mode": {
    "name": "ipython",
    "version": 3
   },
   "file_extension": ".py",
   "mimetype": "text/x-python",
   "name": "python",
   "nbconvert_exporter": "python",
   "pygments_lexer": "ipython3",
   "version": "3.6.5"
  }
 },
 "nbformat": 4,
 "nbformat_minor": 2
}
