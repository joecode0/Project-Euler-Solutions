{
 "cells": [
  {
   "cell_type": "code",
   "execution_count": 1,
   "id": "5628cd9a",
   "metadata": {},
   "outputs": [
    {
     "name": "stdout",
     "output_type": "stream",
     "text": [
      "3\n",
      "4\n",
      "2\n",
      "5\n",
      "5\n",
      "3\n",
      "4\n"
     ]
    }
   ],
   "source": [
    "pairs = {(1,2),(1,3),(1,4),(1,5),(2,3),(2,4),(2,5)}\n",
    "p = 1\n",
    "for (a, p2) in pairs:\n",
    "    print(p2)"
   ]
  },
  {
   "cell_type": "code",
   "execution_count": 3,
   "id": "902a2416",
   "metadata": {},
   "outputs": [
    {
     "name": "stdout",
     "output_type": "stream",
     "text": [
      "(2, 3)\n",
      "{(2, 4), (1, 2), (1, 5), (2, 5), (1, 3), (1, 4)}\n"
     ]
    }
   ],
   "source": [
    "a = pairs.pop()\n",
    "print(a)\n",
    "print(pairs)"
   ]
  },
  {
   "cell_type": "code",
   "execution_count": null,
   "id": "4024adf8",
   "metadata": {},
   "outputs": [],
   "source": []
  }
 ],
 "metadata": {
  "kernelspec": {
   "display_name": "Python 3 (ipykernel)",
   "language": "python",
   "name": "python3"
  },
  "language_info": {
   "codemirror_mode": {
    "name": "ipython",
    "version": 3
   },
   "file_extension": ".py",
   "mimetype": "text/x-python",
   "name": "python",
   "nbconvert_exporter": "python",
   "pygments_lexer": "ipython3",
   "version": "3.9.7"
  }
 },
 "nbformat": 4,
 "nbformat_minor": 5
}
