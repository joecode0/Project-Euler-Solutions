{
 "cells": [
  {
   "cell_type": "code",
   "execution_count": 12,
   "metadata": {},
   "outputs": [
    {
     "name": "stdout",
     "output_type": "stream",
     "text": [
      "220 and 284 are an amicable pair\n",
      "284 and 220 are an amicable pair\n",
      "1184 and 1210 are an amicable pair\n",
      "1210 and 1184 are an amicable pair\n",
      "2620 and 2924 are an amicable pair\n",
      "2924 and 2620 are an amicable pair\n",
      "5020 and 5564 are an amicable pair\n",
      "5564 and 5020 are an amicable pair\n",
      "6232 and 6368 are an amicable pair\n",
      "6368 and 6232 are an amicable pair\n",
      "{1184, 6368, 5564, 5020, 2924, 284, 6232, 1210, 220, 2620}\n"
     ]
    },
    {
     "data": {
      "text/plain": [
       "31626"
      ]
     },
     "execution_count": 12,
     "metadata": {},
     "output_type": "execute_result"
    }
   ],
   "source": [
    "# Problem 21: Amicable numbers\n",
    "\n",
    "def get_factors_sum(number):\n",
    "    factors_sum = 0\n",
    "    i = 1\n",
    "    j = number\n",
    "    while i < j:\n",
    "        j = int(number/i)\n",
    "        if number%i == 0:\n",
    "            factors_sum += i\n",
    "            factors_sum += j\n",
    "        i += 1\n",
    "    if i==j:\n",
    "        if i*j == number:\n",
    "            factors_sum += i\n",
    "    factors_sum -= number\n",
    "    return factors_sum\n",
    "\n",
    "def test_if_amicable_sum(number):\n",
    "    sum_a = get_factors_sum(number)\n",
    "    sum_b = get_factors_sum(sum_a)\n",
    "    if number == sum_b:\n",
    "        return True,sum_a\n",
    "    else:\n",
    "        return False,sum_a\n",
    "\n",
    "amicable_set = set([])\n",
    "for i in range(10000):\n",
    "    result, sum_ = test_if_amicable_sum(i)\n",
    "    if result and sum_ != i:\n",
    "        print(\"{} and {} are an amicable pair\".format(i,sum_))\n",
    "        amicable_set.add(i)\n",
    "        amicable_set.add(sum_)\n",
    "\n",
    "output_sum = 0\n",
    "for item in amicable_set:\n",
    "    output_sum += item\n",
    "print(amicable_set)\n",
    "output_sum\n"
   ]
  },
  {
   "cell_type": "code",
   "execution_count": 17,
   "metadata": {},
   "outputs": [
    {
     "name": "stdout",
     "output_type": "stream",
     "text": [
      "['AARON', 'ABBEY', 'ABBIE', 'ABBY', 'ABDUL']\n"
     ]
    },
    {
     "data": {
      "text/plain": [
       "871198282"
      ]
     },
     "execution_count": 17,
     "metadata": {},
     "output_type": "execute_result"
    }
   ],
   "source": [
    "# Problem 22: Names scores\n",
    "import pandas as pd\n",
    "\n",
    "df = pd.read_csv('data/p022_names.csv')\n",
    "names = list(df.columns.values)\n",
    "names = sorted(names)\n",
    "print(names[0:5])\n",
    "\n",
    "alphabet = 'ABCDEFGHIJKLMNOPQRSTUVWXYZ'\n",
    "letter_scores = {}\n",
    "for i in range(len(alphabet)):\n",
    "    letter_scores[alphabet[i]] = (i+1)\n",
    "\n",
    "def get_name_score(name,letter_scores):\n",
    "    name_score = 0\n",
    "    for letter in name:\n",
    "        name_score += letter_scores.get(letter)\n",
    "    return name_score\n",
    "\n",
    "names_scores = {}\n",
    "for i in range(len(names)):\n",
    "    name = names[i]\n",
    "    names_scores[name] = get_name_score(name,letter_scores)\n",
    "\n",
    "names_keys = names_scores.keys()\n",
    "total_score = 0\n",
    "i = 1\n",
    "for name in names_keys:\n",
    "    total_score += (i*names_scores.get(name))\n",
    "    i += 1\n",
    "total_score"
   ]
  },
  {
   "cell_type": "code",
   "execution_count": 44,
   "metadata": {},
   "outputs": [
    {
     "name": "stdout",
     "output_type": "stream",
     "text": [
      "1457 impossible numbers\n"
     ]
    },
    {
     "data": {
      "text/plain": [
       "4179871"
      ]
     },
     "execution_count": 44,
     "metadata": {},
     "output_type": "execute_result"
    }
   ],
   "source": [
    "# Problem 23: Non-abundant sums\n",
    "def get_factors_sum(number):\n",
    "    factors_sum = 0\n",
    "    i = 2\n",
    "    j = int(number/i)\n",
    "    while i < j:\n",
    "        if number%i == 0:\n",
    "            factors_sum += i\n",
    "            factors_sum += j\n",
    "        i += 1\n",
    "        j = int(number/i)\n",
    "    if i==j:\n",
    "        if i*j == number:\n",
    "            factors_sum += i\n",
    "    factors_sum += 1\n",
    "    return factors_sum\n",
    "\n",
    "abundant_numbers = []\n",
    "for i in range(1,28124): #14063\n",
    "    factors_sum = get_factors_sum(i)\n",
    "    if factors_sum > i:\n",
    "        abundant_numbers.append(i)\n",
    "\n",
    "all_possible_numbers = set([])\n",
    "for i in range(len(abundant_numbers)):\n",
    "    a = abundant_numbers[i]\n",
    "    for j in range(i,len(abundant_numbers)):\n",
    "        b = abundant_numbers[j]\n",
    "        all_possible_numbers.add(a+b)\n",
    "\n",
    "all_impossible_numbers = [x for x in range(28123) if not x in all_possible_numbers] #28123\n",
    "print(\"{} impossible numbers\".format(len(all_impossible_numbers)))\n",
    "sum(all_impossible_numbers)"
   ]
  },
  {
   "cell_type": "code",
   "execution_count": 58,
   "metadata": {},
   "outputs": [
    {
     "name": "stdout",
     "output_type": "stream",
     "text": [
      "2783915460\n"
     ]
    }
   ],
   "source": [
    "# Problem 24: Lexicographic permutations\n",
    "from math import factorial\n",
    "x = 1000000\n",
    "total_first_layer = factorial(9) # 362880\n",
    "first_layer_nth_permutation = x%total_first_layer # 274240\n",
    "# Therefore 362880 permutations with 0 at beginning, 362880 permutations with 1 at beginning, etc\n",
    "# therefore first number is 2, and millions permutation is 274240th permutation of 0,1,3,4,5,6,7,8,9 after a 2\n",
    "total_second_layer = factorial(8) # 40320\n",
    "second_layer_nth_permutation = first_layer_nth_permutation%total_second_layer # 32320\n",
    "# Therefore 40320 permutations with 2,0 at beginning, then 40320 permutations with 2,1, at beginning etc\n",
    "# therefore 2nd number is 7, and millionth permutation is 32320th permutation of 0,1,3,4,5,6,8,9 after 2,7\n",
    "total_third_layer = factorial(7) # 5040\n",
    "third_layer_nth_permutation = second_layer_nth_permutation%total_third_layer # 2080\n",
    "# therefore 5040 permutations with 2,7,0 at beginning, then 5040 permutations with 2,7,1, at beginning etc\n",
    "# therefore 3rd number is 8, and millionth permutation is 2080th permutation of 0,1,3,4,5,6,9 after 2,7,8\n",
    "total_fourth_layer = factorial(6) # 720\n",
    "fourth_layer_nth_permutation= third_layer_nth_permutation%total_fourth_layer # 640\n",
    "# therefore 720 permutations with 2,7,8,0 at beginning, then 720 with 2,7,8,1 at beginning, etc\n",
    "# therefore 4th number is 3, and millionth permutation is 640th permutation of 0,1,4,5,6,9 after 2,7,8,3\n",
    "total_fifth_layer = factorial(5) #120\n",
    "fifth_layer_nth_permutation = fourth_layer_nth_permutation%total_fifth_layer # 40\n",
    "# therefore 120 permutations with 2,7,8,3,0 at beginning, then 120 with 2,7,8,3,1 at beginning etc\n",
    "# therefore 5th number is 9, and millionth permutation is 40th permutation of 0,1,4,5,6 after 2,7,8,3,9\n",
    "total_sixth_layer = factorial(4) # 24\n",
    "sixth_layer_nth_permutation = fifth_layer_nth_permutation%total_sixth_layer #16\n",
    "# therefore 24 permutations with 2,7,8,3,9,0 at beginning, then 24 with 2,7,8,3,9,1 at beginning etc\n",
    "# therefore 6th number is 1, and millionth permutation is 16th permutation of 0,4,5,6 after 2,7,8,3,9,1\n",
    "total_seventh_layer = factorial(3) # 6\n",
    "seventh_layer_nth_permutation = sixth_layer_nth_permutation%total_seventh_layer #4\n",
    "# therefore 6 permutations with 2,7,8,3,9,1,0 at beginning, then 6 with 2,7,8,3,9,1,4 at beginning etc\n",
    "# therefore 7th number is 5, and millions permutation is 4th permutation of 0,4,6 after 2,7,8,3,9,1,5\n",
    "\n",
    "#046\n",
    "#064\n",
    "#406\n",
    "#460\n",
    "#604\n",
    "#640\n",
    "\n",
    "# therefore result = 2,7,8,3,9,1,5,4,6,0\n",
    "print(2783915460)\n",
    "\n",
    "\n"
   ]
  },
  {
   "cell_type": "code",
   "execution_count": 61,
   "metadata": {},
   "outputs": [
    {
     "name": "stdout",
     "output_type": "stream",
     "text": [
      "F_4782 has over 1000 digits\n"
     ]
    }
   ],
   "source": [
    "# Problem 25: 1000-digit Fibonacci Number\n",
    "notFound = True\n",
    "cur_f = 0\n",
    "prev_f = 1\n",
    "two_prev_f = 1\n",
    "i = 3\n",
    "while notFound:\n",
    "    cur_f = prev_f + two_prev_f\n",
    "    num_digits = len(str(cur_f))\n",
    "    #print(\"F_{} has {} digits\".format(i,num_digits))\n",
    "    if num_digits >= 1000:\n",
    "        notFound = False\n",
    "    i += 1\n",
    "    two_prev_f = prev_f\n",
    "    prev_f = cur_f\n",
    "print(\"F_{} has over 1000 digits\".format(i-1))\n",
    "    \n",
    "    "
   ]
  },
  {
   "cell_type": "code",
   "execution_count": 52,
   "metadata": {
    "scrolled": true
   },
   "outputs": [
    {
     "name": "stdout",
     "output_type": "stream",
     "text": [
      "Best: 1/983 has 982 digits recurring\n"
     ]
    }
   ],
   "source": [
    "# Problem 26: Reciprocal cycles\n",
    "from decimal import *\n",
    "getcontext().prec = 10000\n",
    "\n",
    "def find_repeat(digits_string):\n",
    "    original = digits_string\n",
    "    for j in range(len(digits_string)):\n",
    "        # Remove first entry and test, then repeat (first loop doesn't remove any entries)\n",
    "        digits_string = original[j:]\n",
    "        #print(digits_string)\n",
    "        for i in range(int(len(digits_string)/2)):\n",
    "            first_n_items = digits_string[:i]\n",
    "            #print(\"First n items: {}\".format(first_n_items))\n",
    "            if first_n_items == digits_string[i:2*i] and i != 0:\n",
    "                if 3*i < len(digits_string) and first_n_items == digits_string[2*i:3*i]:\n",
    "                    return len(first_n_items), first_n_items\n",
    "    return 0,\"\"\n",
    "\n",
    "test = str(str(1/7).split(\"0.\")[1])\n",
    "\n",
    "best_so_far_length = 0\n",
    "d = 0\n",
    "for i in range(2,1000):\n",
    "    digits_string = str(Decimal(1)/Decimal(i)).replace(\"0.\",\"\")\n",
    "    repeat, recurring_str = find_repeat(digits_string)\n",
    "    if repeat >= best_so_far_length:\n",
    "        #print(\"New best: 1/{} has {} digits recurring\".format(i,repeat))\n",
    "        best_so_far_length = repeat\n",
    "        d = i\n",
    "print(\"Best: 1/{} has {} digits recurring\".format(d,best_so_far_length))"
   ]
  },
  {
   "cell_type": "code",
   "execution_count": 89,
   "metadata": {
    "scrolled": true
   },
   "outputs": [
    {
     "name": "stdout",
     "output_type": "stream",
     "text": [
      "Getting all possible usable primes\n",
      "Done\n"
     ]
    },
    {
     "ename": "KeyboardInterrupt",
     "evalue": "",
     "output_type": "error",
     "traceback": [
      "\u001b[1;31m---------------------------------------------------------------------------\u001b[0m",
      "\u001b[1;31mKeyboardInterrupt\u001b[0m                         Traceback (most recent call last)",
      "\u001b[1;32m<ipython-input-89-2e2d9a9e2a42>\u001b[0m in \u001b[0;36m<module>\u001b[1;34m()\u001b[0m\n\u001b[0;32m     57\u001b[0m         \u001b[0mb\u001b[0m \u001b[1;33m=\u001b[0m \u001b[0mpair\u001b[0m\u001b[1;33m[\u001b[0m\u001b[1;36m1\u001b[0m\u001b[1;33m]\u001b[0m\u001b[1;33m\u001b[0m\u001b[0m\n\u001b[0;32m     58\u001b[0m         \u001b[0mpotential_prime\u001b[0m \u001b[1;33m=\u001b[0m \u001b[0mn\u001b[0m\u001b[1;33m**\u001b[0m\u001b[1;36m2\u001b[0m \u001b[1;33m+\u001b[0m \u001b[0ma\u001b[0m\u001b[1;33m*\u001b[0m\u001b[0mn\u001b[0m \u001b[1;33m+\u001b[0m \u001b[0mb\u001b[0m\u001b[1;33m\u001b[0m\u001b[0m\n\u001b[1;32m---> 59\u001b[1;33m         \u001b[0mresult\u001b[0m \u001b[1;33m=\u001b[0m \u001b[0mtest_prime\u001b[0m\u001b[1;33m(\u001b[0m\u001b[0mpotential_prime\u001b[0m\u001b[1;33m,\u001b[0m\u001b[0mlist\u001b[0m\u001b[1;33m(\u001b[0m\u001b[0mknown_primes\u001b[0m\u001b[1;33m)\u001b[0m\u001b[1;33m)\u001b[0m\u001b[1;33m\u001b[0m\u001b[0m\n\u001b[0m\u001b[0;32m     60\u001b[0m         \u001b[1;32mif\u001b[0m \u001b[0mresult\u001b[0m\u001b[1;33m:\u001b[0m\u001b[1;33m\u001b[0m\u001b[0m\n\u001b[0;32m     61\u001b[0m             \u001b[0mknown_primes\u001b[0m\u001b[1;33m.\u001b[0m\u001b[0madd\u001b[0m\u001b[1;33m(\u001b[0m\u001b[0mpotential_prime\u001b[0m\u001b[1;33m)\u001b[0m\u001b[1;33m\u001b[0m\u001b[0m\n",
      "\u001b[1;32m<ipython-input-89-2e2d9a9e2a42>\u001b[0m in \u001b[0;36mtest_prime\u001b[1;34m(x, known_primes)\u001b[0m\n\u001b[0;32m      5\u001b[0m \u001b[1;32mfrom\u001b[0m \u001b[0mmath\u001b[0m \u001b[1;32mimport\u001b[0m \u001b[0msqrt\u001b[0m\u001b[1;33m\u001b[0m\u001b[0m\n\u001b[0;32m      6\u001b[0m \u001b[1;33m\u001b[0m\u001b[0m\n\u001b[1;32m----> 7\u001b[1;33m \u001b[1;32mdef\u001b[0m \u001b[0mtest_prime\u001b[0m\u001b[1;33m(\u001b[0m\u001b[0mx\u001b[0m\u001b[1;33m,\u001b[0m \u001b[0mknown_primes\u001b[0m\u001b[1;33m)\u001b[0m\u001b[1;33m:\u001b[0m\u001b[1;33m\u001b[0m\u001b[0m\n\u001b[0m\u001b[0;32m      8\u001b[0m     \u001b[1;32mif\u001b[0m \u001b[0mx\u001b[0m \u001b[1;33m<\u001b[0m \u001b[1;36m2\u001b[0m\u001b[1;33m:\u001b[0m\u001b[1;33m\u001b[0m\u001b[0m\n\u001b[0;32m      9\u001b[0m         \u001b[1;32mreturn\u001b[0m \u001b[1;32mFalse\u001b[0m\u001b[1;33m\u001b[0m\u001b[0m\n",
      "\u001b[1;31mKeyboardInterrupt\u001b[0m: "
     ]
    }
   ],
   "source": [
    "# Problem 27: Quadratic Primes\n",
    "\n",
    "# Since formula must satisfy for n=0, b must be a prime\n",
    "# Therefore would be useful to produce all primes b <= 1000\n",
    "from math import sqrt\n",
    "\n",
    "def test_prime(x, known_primes):\n",
    "    if x < 2:\n",
    "        return False\n",
    "    max_val_to_check = int(sqrt(x))+1\n",
    "    current_prime = known_primes[0]\n",
    "    i = 0\n",
    "    while current_prime < max_val_to_check:\n",
    "        if x%current_prime == 0:\n",
    "            return False\n",
    "        i += 1\n",
    "        current_prime = known_primes[i]\n",
    "    return True\n",
    "\n",
    "def get_all_primes(max_val):\n",
    "    primes_list = [2,3,5,7,11,13,17]\n",
    "    for i in range(18,max_val+1):\n",
    "        result = test_prime(i, primes_list)\n",
    "        if result:\n",
    "            primes_list.append(i)\n",
    "    return primes_list\n",
    "\n",
    "all_values_of_b = get_all_primes(1000)\n",
    "# len(all_values_of_b) # 181 possible values for b\n",
    "\n",
    "# would now be worth selecting all (a,b) pairs that satisfy quadratic for n = 1 too\n",
    "known_primes = set(all_values_of_b)\n",
    "ab_pairs = []\n",
    "for i in range(-999,1000):\n",
    "    a = i\n",
    "    # formula for n = 1 is 1+a+b is prime\n",
    "    for j in all_values_of_b:\n",
    "        b = j\n",
    "        potential_prime = 1+a+b\n",
    "        result = test_prime(potential_prime,list(known_primes))\n",
    "        if result:\n",
    "            known_primes.add(potential_prime)\n",
    "            ab_pairs.append((a,b))\n",
    "            #print(\"New Valid Pair: {} and {}\".format(a,b))\n",
    "len(ab_pairs) # 53517\n",
    "\n",
    "import time\n",
    "n = 2\n",
    "prev_ab_pairs = ab_pairs\n",
    "new_ab_pairs = set([])\n",
    "print(\"Getting all possible usable primes\")\n",
    "known_primes = set(get_all_primes(100000))\n",
    "print(\"Done\")\n",
    "while len(prev_ab_pairs) > 1:\n",
    "    for pair in prev_ab_pairs:\n",
    "        a = pair[0]\n",
    "        b = pair[1]\n",
    "        potential_prime = n**2 + a*n + b\n",
    "        result = test_prime(potential_prime,list(known_primes))\n",
    "        if result:\n",
    "            known_primes.add(potential_prime)\n",
    "            new_ab_pairs.add(pair)\n",
    "    print(\"For n={}, there are {} valid ab pairs\".format(n,len(new_ab_pairs)))\n",
    "    n += 1\n",
    "    if n == 500:\n",
    "        print(new_ab_pairs)\n",
    "    prev_ab_pairs = new_ab_pairs\n",
    "    new_ab_pairs = set([])\n",
    "print(prev_ab_pairs)"
   ]
  },
  {
   "cell_type": "code",
   "execution_count": 76,
   "metadata": {},
   "outputs": [
    {
     "data": {
      "text/plain": [
       "-59231"
      ]
     },
     "execution_count": 76,
     "metadata": {},
     "output_type": "execute_result"
    }
   ],
   "source": [
    "-61 * 971"
   ]
  },
  {
   "cell_type": "code",
   "execution_count": 86,
   "metadata": {},
   "outputs": [
    {
     "data": {
      "text/plain": [
       "669171001"
      ]
     },
     "execution_count": 86,
     "metadata": {},
     "output_type": "execute_result"
    }
   ],
   "source": [
    "# Problem 28: Number spiral diagonals\n",
    "def get_diag_sum(board_size):\n",
    "    a = 1\n",
    "    b = 1\n",
    "    c = 1\n",
    "    d = 1\n",
    "    a_to_add = 2\n",
    "    b_to_add = 4\n",
    "    c_to_add = 6\n",
    "    d_to_add = 8\n",
    "    diag_sum = 1\n",
    "    virtual_board_size = 1\n",
    "    while board_size > virtual_board_size:\n",
    "        a += a_to_add\n",
    "        b += b_to_add\n",
    "        c += c_to_add\n",
    "        d += d_to_add\n",
    "        #print(\"{} {} {} {}\".format(a,b,c,d))\n",
    "        diag_sum += a\n",
    "        diag_sum += b\n",
    "        diag_sum += c\n",
    "        diag_sum += d\n",
    "        virtual_board_size += 2\n",
    "        a_to_add += 8\n",
    "        b_to_add += 8\n",
    "        c_to_add += 8\n",
    "        d_to_add += 8\n",
    "    return diag_sum\n",
    "\n",
    "get_diag_sum(1001)\n"
   ]
  },
  {
   "cell_type": "code",
   "execution_count": 92,
   "metadata": {},
   "outputs": [
    {
     "data": {
      "text/plain": [
       "9183"
      ]
     },
     "execution_count": 92,
     "metadata": {},
     "output_type": "execute_result"
    }
   ],
   "source": [
    "# Problem 29: Distinct Powers\n",
    "final_a_to_b_set = set([])\n",
    "for i in range(2,101):\n",
    "    for j in range(2,101):\n",
    "        final_a_to_b_set.add(i**j)\n",
    "len(final_a_to_b_set)"
   ]
  },
  {
   "cell_type": "code",
   "execution_count": 106,
   "metadata": {},
   "outputs": [
    {
     "name": "stdout",
     "output_type": "stream",
     "text": [
      "Sum = 443839\n"
     ]
    }
   ],
   "source": [
    "# Problem 30: Digit Fifth Powers\n",
    "total_sum = 0\n",
    "for val in range(10,1000000):\n",
    "    target = val\n",
    "    digits = [int(x) for x in str(val)]\n",
    "    inner_sum = 0\n",
    "    for digit in digits:\n",
    "        inner_sum += digit**5\n",
    "    if inner_sum == target:\n",
    "        total_sum += target\n",
    "        #print(val)\n",
    "print(\"Sum = \" + str(total_sum))"
   ]
  },
  {
   "cell_type": "code",
   "execution_count": null,
   "metadata": {},
   "outputs": [],
   "source": []
  }
 ],
 "metadata": {
  "kernelspec": {
   "display_name": "Python 3",
   "language": "python",
   "name": "python3"
  },
  "language_info": {
   "codemirror_mode": {
    "name": "ipython",
    "version": 3
   },
   "file_extension": ".py",
   "mimetype": "text/x-python",
   "name": "python",
   "nbconvert_exporter": "python",
   "pygments_lexer": "ipython3",
   "version": "3.6.5"
  }
 },
 "nbformat": 4,
 "nbformat_minor": 2
}
